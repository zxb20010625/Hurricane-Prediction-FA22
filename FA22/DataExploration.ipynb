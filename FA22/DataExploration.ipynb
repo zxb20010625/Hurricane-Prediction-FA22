{
 "cells": [
  {
   "cell_type": "code",
   "execution_count": null,
   "id": "21fcf035-4622-4358-9598-e24368344ae0",
   "metadata": {},
   "outputs": [],
   "source": [
    "import numpy as np\n",
    "import matplotlib.pyplot as plt\n",
    "import pandas as pd\n",
    "from pandas import DataFrame as df\n",
    "import xarray as xr\n",
    "import netCDF4 as nc\n",
    "import os\n",
    "import requests\n",
    "from datetime import timedelta\n",
    "import tensorflow as tf\n",
    "from datetime import datetime"
   ]
  },
  {
   "cell_type": "code",
   "execution_count": null,
   "id": "d5dec1de-525e-4420-8e32-a77c566e519a",
   "metadata": {},
   "outputs": [],
   "source": [
    "ds_SALT = xr.open_dataset(\"../SODA/salt_combined.nc\" , decode_times=False)"
   ]
  },
  {
   "cell_type": "code",
   "execution_count": null,
   "id": "c0b734c8-34e8-4653-824f-14e8aca00250",
   "metadata": {},
   "outputs": [],
   "source": [
    "#### "
   ]
  },
  {
   "cell_type": "code",
   "execution_count": null,
   "id": "50caa6f8-0563-41b1-af53-8a2766095a07",
   "metadata": {},
   "outputs": [],
   "source": [
    "df_VK08_TCCount = pd.read_table('../SODA/VK08_TCCounts_1878-2020.dat', sep=\"\\s+\", header=None)\n",
    "df_VK08_TCCount = df_VK08_TCCount.rename(columns={0: \"Year\", 1:\"VK08_TCCount\"}).copy()\n",
    "ds_SST = xr.open_dataset(\"../SODA/SST.nc\" , decode_times=True)\n",
    "\n",
    "ds_ssh = xr.open_dataset(\"../SODA/data.nc\" , decode_times=False)\n",
    "def fix_calendar(ds, timevar='time'):\n",
    "    if ds[timevar].attrs['calendar'] == '360':\n",
    "        ds[timevar].attrs['calendar'] = '360_day'\n",
    "    return ds\n",
    "\n",
    "ds_ssh = fix_calendar(ds_ssh)\n",
    "ds_ssh = xr.decode_cf(ds_ssh)\n"
   ]
  },
  {
   "cell_type": "code",
   "execution_count": null,
   "id": "4fc8669f-403e-445a-bff9-81bef0941b22",
   "metadata": {},
   "outputs": [],
   "source": []
  },
  {
   "cell_type": "code",
   "execution_count": null,
   "id": "ef082a29-df35-4752-86d3-f140da928a14",
   "metadata": {},
   "outputs": [],
   "source": []
  },
  {
   "cell_type": "code",
   "execution_count": null,
   "id": "fc278bfe-12a0-44af-9ca9-8a294e620f9c",
   "metadata": {},
   "outputs": [],
   "source": [
    "ds_SST_sub = ds_SST.where(((ds_SST.lon>40 )&(ds_SST.lon<80) & (ds_SST.lat>10 )&(ds_SST.lat<20)  ), drop=True)\n",
    "ds_ssh = ds_ssh.where(((ds_ssh.lon > 40 ) & (ds_ssh.lon < 80 ) & (ds_ssh.lat > 10) & (ds_ssh.lat <20)), drop=True)\n",
    "\n",
    "df_sst = pd.DataFrame()\n",
    "df_sst['time'] = np.array((ds_SST_sub['time']))\n",
    "df_sst['sst'] = ''\n",
    "for i in range(len(df_sst)):\n",
    "  #df_sst['time'][i] = pd.Timestamp(1891, 1, 1) + timedelta(days= df_sst['time'][i])\n",
    "  df_sst['sst'][i] = np.array((ds_SST_sub['sst'][i]))\n",
    "    \n",
    "df_ssh= pd.DataFrame()\n",
    "np.array((ds_ssh['time'][0]))\n",
    "df_ssh['time'] = np.array((ds_ssh['time']))\n",
    "df_ssh['ssh'] = ''\n",
    "for i in range(1656):\n",
    "  df_ssh['ssh'][i] = np.array((ds_ssh['ssh'][i]))\n"
   ]
  },
  {
   "cell_type": "code",
   "execution_count": null,
   "id": "d5b20371-488a-433e-8ada-86c7587a4153",
   "metadata": {},
   "outputs": [],
   "source": [
    "# Interpolation\n",
    "from scipy.interpolate import NearestNDInterpolator\n",
    "for i in range(len(df_sst)):\n",
    "  data = df_sst['sst'][i] \n",
    "  mask = np.where(~np.isnan(data))\n",
    "  interp = NearestNDInterpolator(np.transpose(mask), data[mask])\n",
    "  filled_data = interp(*np.indices(data.shape))\n",
    "  df_sst['sst'][i] = filled_data\n",
    "\n",
    "for i in range(len(df_ssh)):\n",
    "  data = df_ssh['ssh'][i] \n",
    "  mask = np.where(~np.isnan(data))\n",
    "  interp = NearestNDInterpolator(np.transpose(mask), data[mask])\n",
    "  filled_data = interp(*np.indices(data.shape))\n",
    "  df_ssh['ssh'][i] = filled_data"
   ]
  },
  {
   "cell_type": "code",
   "execution_count": null,
   "id": "b5e5d302-9353-4d31-bf5e-8958eab47c7a",
   "metadata": {},
   "outputs": [],
   "source": []
  },
  {
   "cell_type": "code",
   "execution_count": null,
   "id": "5b6a2086-8e3a-40d3-9886-5a059210e8c8",
   "metadata": {},
   "outputs": [],
   "source": [
    "def convert_to_dt(x):\n",
    "    return datetime.strptime(str(x), '%Y-%m-%d %H:%M:%S')\n",
    "\n",
    "\n",
    "df_sst[\"time\"] = df_sst.time.apply(convert_to_dt)\n",
    "df_sst['Month'] = 0\n",
    "df_sst['Year'] = 0\n",
    "for i in range(len(df_sst)):\n",
    "    df_sst['Month'][i] =df_sst['time'][i].month\n",
    "    df_sst['Year'][i] =df_sst['time'][i].year\n",
    "    \n",
    "df_ssh[\"time\"] = df_ssh.time.apply(convert_to_dt)\n",
    "df_ssh['Month'] = 0\n",
    "df_ssh['Year'] = 0\n",
    "for i in range(len(df_ssh)):\n",
    "    df_ssh['Month'][i] =df_ssh['time'][i].month\n",
    "    df_ssh['Year'][i] =df_ssh['time'][i].year"
   ]
  },
  {
   "cell_type": "code",
   "execution_count": null,
   "id": "cd1a613e-3ec0-43aa-afad-d8a574b8389f",
   "metadata": {},
   "outputs": [],
   "source": [
    "df_sst"
   ]
  },
  {
   "cell_type": "code",
   "execution_count": null,
   "id": "0be99970-866c-4643-9e67-49d432764c69",
   "metadata": {},
   "outputs": [],
   "source": [
    "df_ssh['ssh'][0].shape"
   ]
  },
  {
   "cell_type": "code",
   "execution_count": null,
   "id": "c11a1982-d056-4b27-8665-7ecf4e873bfb",
   "metadata": {},
   "outputs": [],
   "source": [
    "df_VK08_TCCount"
   ]
  },
  {
   "cell_type": "code",
   "execution_count": null,
   "id": "bb4d2a61-e8d8-412b-b9aa-e11ca4d7ce4c",
   "metadata": {},
   "outputs": [],
   "source": [
    "df_combined = pd.merge(df_sst,df_ssh[['ssh','Year','Month']],how = 'inner',on = ['Month','Year']).drop(axis = 1,labels = ['Month'])"
   ]
  },
  {
   "cell_type": "code",
   "execution_count": null,
   "id": "7aa8afd1-c42a-4f9d-aeae-c1ee6e5cea2b",
   "metadata": {},
   "outputs": [],
   "source": [
    "df_combiend"
   ]
  },
  {
   "cell_type": "code",
   "execution_count": null,
   "id": "538678a8-910d-4890-8ce5-5b0e991c3033",
   "metadata": {},
   "outputs": [],
   "source": []
  },
  {
   "cell_type": "code",
   "execution_count": null,
   "id": "e452b772-cd31-4ed2-b9fd-c19b70ab4c8e",
   "metadata": {},
   "outputs": [],
   "source": [
    "### DATA EXPLORATION ###"
   ]
  },
  {
   "cell_type": "code",
   "execution_count": null,
   "id": "9630e70b-f6c2-4b85-ad74-a88888ce11f4",
   "metadata": {},
   "outputs": [],
   "source": [
    "# Plot of TC Count\n",
    "df_VK08_TCCount[ '7year_rolling_avg' ] = df_VK08_TCCount.VK08_TCCount.rolling(5).mean()\n",
    "plt.figure(figsize=(20,10))\n",
    "plt.plot(df_VK08_TCCount['Year'],df_VK08_TCCount['VK08_TCCount'])\n",
    "plt.plot(df_VK08_TCCount['Year'],df_VK08_TCCount['7year_rolling_avg'])\n",
    "plt.gca().set(title='TC Count Visulization Over Time', xlabel=\"Year\", ylabel=\"TC Count\")"
   ]
  },
  {
   "cell_type": "code",
   "execution_count": null,
   "id": "380032e8-4ade-430e-804c-539e97f60748",
   "metadata": {},
   "outputs": [],
   "source": [
    "plt.boxplot(df_VK08_TCCount['VK08_TCCount'])"
   ]
  },
  {
   "cell_type": "code",
   "execution_count": null,
   "id": "29d1446e-e6cf-4cbb-9a43-d2c32ccbd7d4",
   "metadata": {},
   "outputs": [],
   "source": [
    "lon = 60 - 40\n",
    "lat = 15 - 10\n",
    "ssh_lon = lon*2\n",
    "ssh_lat = lat*2\n",
    "\n",
    "# Plot of SSH and SST in one location\n",
    "# df_VK08_TCCount[ '7year_rolling_avg' ] = df_VK08_TCCount.VK08_TCCount.rolling(5).mean()\n",
    "temp_sst = []\n",
    "temp_ssh = []\n",
    "for i in range(len(df_combined)):\n",
    "    temp_sst.append(df_combined['sst'][i][lat][lon])\n",
    "    temp_ssh.append(df_combined['ssh'][i][ssh_lat][ssh_lon])\n",
    "w = 24\n",
    "temp_sstAvg = [0] * (w-1)\n",
    "temp_sshAvg = [0] * (w-1)\n",
    "temp_sstAvg.extend(np.convolve(temp_sst, np.ones(w), 'valid') / w)\n",
    "temp_sshAvg.extend(np.convolve(temp_ssh, np.ones(w), 'valid') / w)\n",
    "plt.figure(figsize=(20,10))\n",
    "plt.plot(df_combined['time'],temp_sst / np.linalg.norm(temp_sst) + 0.02,color='r')\n",
    "plt.plot(df_combined['time'],temp_sstAvg / np.linalg.norm(temp_sst) + 0.02)\n",
    "plt.plot(df_combined['time'],temp_ssh / np.linalg.norm(temp_ssh),color = 'b')\n",
    "plt.plot(df_combined['time'],temp_sshAvg / np.linalg.norm(temp_ssh))\n",
    "df_VK08_TCCount[ '7year_rolling_avg' ] = df_VK08_TCCount.VK08_TCCount.rolling(5).mean()"
   ]
  },
  {
   "cell_type": "code",
   "execution_count": null,
   "id": "bef6b3b1-646c-45df-a0b3-a18e110e507b",
   "metadata": {},
   "outputs": [],
   "source": [
    "from scipy.stats.stats import pearsonr   \n",
    "print(pearsonr(temp_sstAvg,temp_sshAvg))"
   ]
  },
  {
   "cell_type": "code",
   "execution_count": null,
   "id": "44c216b9-d55d-492f-8d92-250c1d68905a",
   "metadata": {},
   "outputs": [],
   "source": []
  },
  {
   "cell_type": "code",
   "execution_count": null,
   "id": "f2044337-b8a4-4984-b90d-3a542091f4ec",
   "metadata": {},
   "outputs": [],
   "source": []
  }
 ],
 "metadata": {
  "kernelspec": {
   "display_name": "Python 3",
   "language": "python",
   "name": "python3"
  },
  "language_info": {
   "codemirror_mode": {
    "name": "ipython",
    "version": 3
   },
   "file_extension": ".py",
   "mimetype": "text/x-python",
   "name": "python",
   "nbconvert_exporter": "python",
   "pygments_lexer": "ipython3",
   "version": "3.8.8"
  }
 },
 "nbformat": 4,
 "nbformat_minor": 5
}
